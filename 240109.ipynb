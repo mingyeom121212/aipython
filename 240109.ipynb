{
  "nbformat": 4,
  "nbformat_minor": 0,
  "metadata": {
    "colab": {
      "provenance": [],
      "authorship_tag": "ABX9TyMEo8TyRLbIQSUtnNdaavck",
      "include_colab_link": true
    },
    "kernelspec": {
      "name": "python3",
      "display_name": "Python 3"
    },
    "language_info": {
      "name": "python"
    }
  },
  "cells": [
    {
      "cell_type": "markdown",
      "metadata": {
        "id": "view-in-github",
        "colab_type": "text"
      },
      "source": [
        "<a href=\"https://colab.research.google.com/github/mingyeom121212/aipython/blob/main/240109.ipynb\" target=\"_parent\"><img src=\"https://colab.research.google.com/assets/colab-badge.svg\" alt=\"Open In Colab\"/></a>"
      ]
    },
    {
      "cell_type": "code",
      "execution_count": 2,
      "metadata": {
        "id": "pOVm3FqBvk7m"
      },
      "outputs": [],
      "source": [
        "import numpy as np"
      ]
    },
    {
      "cell_type": "code",
      "source": [
        "# 1차원 배열\n",
        "arr1d = np.array([1, 2, 3, 4, 5])\n",
        "print(arr1d)\n",
        "# 2차원 배열\n",
        "arr2d = np.array([[1, 2, 3], [4, 5, 6]])\n",
        "print(arr2d)\n",
        "# 배열의 형태, 차원, 데이터 타입 확인\n",
        "print(\"Shape:\", arr2d.shape)\n",
        "print(\"Dimensions:\", arr2d.ndim)\n",
        "print(\"Data Type:\", arr2d.dtype)"
      ],
      "metadata": {
        "colab": {
          "base_uri": "https://localhost:8080/"
        },
        "id": "yGaaQBuYAiq2",
        "outputId": "b546c17b-058a-402c-ddb3-45b076126e54"
      },
      "execution_count": 3,
      "outputs": [
        {
          "output_type": "stream",
          "name": "stdout",
          "text": [
            "[1 2 3 4 5]\n",
            "[[1 2 3]\n",
            " [4 5 6]]\n",
            "Shape: (2, 3)\n",
            "Dimensions: 2\n",
            "Data Type: int64\n"
          ]
        }
      ]
    },
    {
      "cell_type": "code",
      "source": [
        "a=np.arange(1,10,2)\n",
        "print(a)\n",
        "b=np.ones((3,4))\n",
        "print(b)\n",
        "c=np.linspace(0,1,10)\n",
        "print(c)"
      ],
      "metadata": {
        "colab": {
          "base_uri": "https://localhost:8080/"
        },
        "id": "vSyBH0mGGwAN",
        "outputId": "7bc46b7a-c2dd-416c-d3cc-d2e6c0a3f6cf"
      },
      "execution_count": 7,
      "outputs": [
        {
          "output_type": "stream",
          "name": "stdout",
          "text": [
            "[1 3 5 7 9]\n",
            "[[1. 1. 1. 1.]\n",
            " [1. 1. 1. 1.]\n",
            " [1. 1. 1. 1.]]\n",
            "[0.         0.11111111 0.22222222 0.33333333 0.44444444 0.55555556\n",
            " 0.66666667 0.77777778 0.88888889 1.        ]\n"
          ]
        }
      ]
    },
    {
      "cell_type": "code",
      "source": [
        "A=np.arange(1,26).reshape(5,5)\n",
        "print(A)\n",
        "print(A.shape)\n",
        "print(A[3,3])\n",
        "print(A[:2,:2])\n",
        "print(A[3:5,3:5])\n",
        "print(A[:2])\n",
        "print(A[:,3:5])"
      ],
      "metadata": {
        "colab": {
          "base_uri": "https://localhost:8080/"
        },
        "id": "ovWI0y1MKRcQ",
        "outputId": "64d5fde7-a38f-4e78-c08e-c8716d6bf420"
      },
      "execution_count": 23,
      "outputs": [
        {
          "output_type": "stream",
          "name": "stdout",
          "text": [
            "[[ 1  2  3  4  5]\n",
            " [ 6  7  8  9 10]\n",
            " [11 12 13 14 15]\n",
            " [16 17 18 19 20]\n",
            " [21 22 23 24 25]]\n",
            "(5, 5)\n",
            "19\n",
            "[[1 2]\n",
            " [6 7]]\n",
            "[[19 20]\n",
            " [24 25]]\n",
            "[[ 1  2  3  4  5]\n",
            " [ 6  7  8  9 10]]\n",
            "[[ 4  5]\n",
            " [ 9 10]\n",
            " [14 15]\n",
            " [19 20]\n",
            " [24 25]]\n"
          ]
        }
      ]
    },
    {
      "cell_type": "code",
      "source": [
        "A=np.arange(1,13).reshape(3,4)\n",
        "print(A)\n",
        "print(A.shape,A.size)\n",
        "A=np.arange(1,37).reshape(3,3,4)\n",
        "print(A)\n",
        "print(A.flatten())"
      ],
      "metadata": {
        "colab": {
          "base_uri": "https://localhost:8080/"
        },
        "id": "RMIdqczkMHHC",
        "outputId": "616abd71-ea88-44a0-d4b2-60916203bd47"
      },
      "execution_count": 32,
      "outputs": [
        {
          "output_type": "stream",
          "name": "stdout",
          "text": [
            "[[ 1  2  3  4]\n",
            " [ 5  6  7  8]\n",
            " [ 9 10 11 12]]\n",
            "(3, 4) 12\n",
            "[[[ 1  2  3  4]\n",
            "  [ 5  6  7  8]\n",
            "  [ 9 10 11 12]]\n",
            "\n",
            " [[13 14 15 16]\n",
            "  [17 18 19 20]\n",
            "  [21 22 23 24]]\n",
            "\n",
            " [[25 26 27 28]\n",
            "  [29 30 31 32]\n",
            "  [33 34 35 36]]]\n",
            "[ 1  2  3  4  5  6  7  8  9 10 11 12 13 14 15 16 17 18 19 20 21 22 23 24\n",
            " 25 26 27 28 29 30 31 32 33 34 35 36]\n"
          ]
        }
      ]
    },
    {
      "cell_type": "code",
      "source": [],
      "metadata": {
        "id": "j7sueGxMPh-p"
      },
      "execution_count": null,
      "outputs": []
    }
  ]
}