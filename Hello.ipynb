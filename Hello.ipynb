{
  "nbformat": 4,
  "nbformat_minor": 0,
  "metadata": {
    "colab": {
      "provenance": [],
      "authorship_tag": "ABX9TyPAF0n1RMrYfPIntalvghHH",
      "include_colab_link": true
    },
    "kernelspec": {
      "name": "python3",
      "display_name": "Python 3"
    },
    "language_info": {
      "name": "python"
    }
  },
  "cells": [
    {
      "cell_type": "markdown",
      "metadata": {
        "id": "view-in-github",
        "colab_type": "text"
      },
      "source": [
        "<a href=\"https://colab.research.google.com/github/mingyeom121212/aipython/blob/main/Hello.ipynb\" target=\"_parent\"><img src=\"https://colab.research.google.com/assets/colab-badge.svg\" alt=\"Open In Colab\"/></a>"
      ]
    },
    {
      "cell_type": "code",
      "execution_count": 1,
      "metadata": {
        "colab": {
          "base_uri": "https://localhost:8080/"
        },
        "id": "aM6bBEsCLpfN",
        "outputId": "bf44bf69-7027-4b6f-9482-79daebe28f5d"
      },
      "outputs": [
        {
          "output_type": "stream",
          "name": "stdout",
          "text": [
            "Hello world\n"
          ]
        }
      ],
      "source": [
        "print(\"Hello world\")"
      ]
    },
    {
      "cell_type": "code",
      "source": [],
      "metadata": {
        "id": "MY5Lh6UcLwIC"
      },
      "execution_count": null,
      "outputs": []
    },
    {
      "source": [
        "print(\"helloworld\")"
      ],
      "cell_type": "code",
      "metadata": {
        "colab": {
          "base_uri": "https://localhost:8080/"
        },
        "id": "v22kUF9-OOv_",
        "outputId": "d40ec233-b875-40cd-cf87-06852381c5aa"
      },
      "execution_count": 2,
      "outputs": [
        {
          "output_type": "stream",
          "name": "stdout",
          "text": [
            "helloworld\n"
          ]
        }
      ]
    },
    {
      "cell_type": "code",
      "source": [],
      "metadata": {
        "id": "UiTO7Q87OQug"
      },
      "execution_count": null,
      "outputs": []
    },
    {
      "source": [
        "a, b = map(int, input().split())\n",
        "if a > b:\n",
        "  print('>')\n",
        "elif a < b:\n",
        "  print('<')\n",
        "else:\n",
        "  print('==')"
      ],
      "cell_type": "code",
      "metadata": {
        "colab": {
          "base_uri": "https://localhost:8080/"
        },
        "id": "TO3ruaFoO9JW",
        "outputId": "c7090365-b8ae-4574-879a-00fa3d0691d2"
      },
      "execution_count": 3,
      "outputs": [
        {
          "output_type": "stream",
          "name": "stdout",
          "text": [
            "1 2\n",
            "<\n"
          ]
        }
      ]
    },
    {
      "cell_type": "code",
      "source": [],
      "metadata": {
        "id": "cEtL6J2PPDDP"
      },
      "execution_count": null,
      "outputs": []
    }
  ]
}