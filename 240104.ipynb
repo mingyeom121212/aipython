{
  "nbformat": 4,
  "nbformat_minor": 0,
  "metadata": {
    "colab": {
      "provenance": [],
      "authorship_tag": "ABX9TyM21Sei11aIV6gxZ0ja2m1J",
      "include_colab_link": true
    },
    "kernelspec": {
      "name": "python3",
      "display_name": "Python 3"
    },
    "language_info": {
      "name": "python"
    }
  },
  "cells": [
    {
      "cell_type": "markdown",
      "metadata": {
        "id": "view-in-github",
        "colab_type": "text"
      },
      "source": [
        "<a href=\"https://colab.research.google.com/github/mingyeom121212/aipython/blob/main/240104.ipynb\" target=\"_parent\"><img src=\"https://colab.research.google.com/assets/colab-badge.svg\" alt=\"Open In Colab\"/></a>"
      ]
    },
    {
      "cell_type": "code",
      "execution_count": 3,
      "metadata": {
        "colab": {
          "base_uri": "https://localhost:8080/"
        },
        "id": "_4TAAUhq_T8x",
        "outputId": "dbd85662-bd57-4aa8-f11e-808c1a023dcb"
      },
      "outputs": [
        {
          "output_type": "execute_result",
          "data": {
            "text/plain": [
              "int"
            ]
          },
          "metadata": {},
          "execution_count": 3
        }
      ],
      "source": [
        "a=30//2\n",
        "type(a)"
      ]
    },
    {
      "cell_type": "code",
      "source": [
        "a = 1\n",
        "while ( a <= 3 ):\n",
        "  print('안녕', a)\n",
        "  a+=1"
      ],
      "metadata": {
        "colab": {
          "base_uri": "https://localhost:8080/"
        },
        "id": "SyOJxTtnEmWn",
        "outputId": "4c136892-094d-40c5-906f-6ad1097fb6a3"
      },
      "execution_count": 6,
      "outputs": [
        {
          "output_type": "stream",
          "name": "stdout",
          "text": [
            "안녕 1\n",
            "안녕 2\n",
            "안녕 3\n"
          ]
        }
      ]
    },
    {
      "cell_type": "code",
      "source": [
        "SIZE=4\n",
        "for i in range(1,SIZE+1):\n",
        "  print(i,'Welcome')\n",
        "  for j in range(1,SIZE):\n",
        "    print(j,'Hello')\n",
        "    j+=1\n",
        "print('Done')\n",
        "\n",
        "\n",
        "\n"
      ],
      "metadata": {
        "colab": {
          "base_uri": "https://localhost:8080/"
        },
        "id": "qnu3OeSJF2lV",
        "outputId": "c28d092c-0e2d-4a5a-9069-b32a11591c24"
      },
      "execution_count": 11,
      "outputs": [
        {
          "output_type": "stream",
          "name": "stdout",
          "text": [
            "1 Welcome\n",
            "1 Hello\n",
            "2 Hello\n",
            "3 Hello\n",
            "2 Welcome\n",
            "1 Hello\n",
            "2 Hello\n",
            "3 Hello\n",
            "3 Welcome\n",
            "1 Hello\n",
            "2 Hello\n",
            "3 Hello\n",
            "4 Welcome\n",
            "1 Hello\n",
            "2 Hello\n",
            "3 Hello\n",
            "Done\n"
          ]
        }
      ]
    },
    {
      "cell_type": "code",
      "source": [
        "A,B,C=map(int,input().split())\n",
        "if A>B:\n",
        "  if A>C:\n",
        "    if B>C:\n",
        "      print(B)\n",
        "    else:\n",
        "      print(C)\n",
        "  else:\n",
        "    print(A)\n",
        "else:\n",
        "  if B>C:\n",
        "    if A>C:\n",
        "      print(A)\n",
        "    else:\n",
        "      print(C)\n",
        "  else:\n",
        "    print(B)"
      ],
      "metadata": {
        "colab": {
          "base_uri": "https://localhost:8080/"
        },
        "id": "mhb-q0bUJTY-",
        "outputId": "3137215a-db50-4a6a-8472-13394e17f0a6"
      },
      "execution_count": 37,
      "outputs": [
        {
          "output_type": "stream",
          "name": "stdout",
          "text": [
            "20 20 30\n",
            "20\n"
          ]
        }
      ]
    },
    {
      "cell_type": "code",
      "source": [
        "A,B,C=map(int,input().split())\n",
        "if C>=A>=B or B>=A>=C:\n",
        "  print(A)\n",
        "elif C>=B>=A or A>=B>=C:\n",
        "  print(B)\n",
        "else:\n",
        "  print(C)"
      ],
      "metadata": {
        "colab": {
          "base_uri": "https://localhost:8080/"
        },
        "id": "U6nzkziELPie",
        "outputId": "800af317-277a-4ae1-df62-cd7410e3e0b5"
      },
      "execution_count": 39,
      "outputs": [
        {
          "output_type": "stream",
          "name": "stdout",
          "text": [
            "20 20 30\n",
            "20\n"
          ]
        }
      ]
    },
    {
      "cell_type": "code",
      "source": [
        "A,B,C=map(int,input().split())\n",
        "nums=[A,B,C]\n",
        "nums.sort(reverse=True)\n",
        "print(nums)"
      ],
      "metadata": {
        "colab": {
          "base_uri": "https://localhost:8080/"
        },
        "id": "PNla-rUiMqJ2",
        "outputId": "5998bac1-d345-41ef-caa4-12461f1b3f91"
      },
      "execution_count": 27,
      "outputs": [
        {
          "output_type": "stream",
          "name": "stdout",
          "text": [
            "20 30 10\n",
            "[30, 20, 10]\n"
          ]
        }
      ]
    },
    {
      "cell_type": "code",
      "source": [
        "A,B,C=map(int,input().split())\n",
        "nums=[A,B,C]\n",
        "nums.sort(reverse=True)\n",
        "print(nums)"
      ],
      "metadata": {
        "colab": {
          "base_uri": "https://localhost:8080/"
        },
        "id": "fNRdhNZLN7TG",
        "outputId": "fc27203b-9516-4ff4-b118-4dd131a808ea"
      },
      "execution_count": 31,
      "outputs": [
        {
          "output_type": "stream",
          "name": "stdout",
          "text": [
            "20 30 10\n",
            "[30, 20, 10]\n"
          ]
        }
      ]
    },
    {
      "cell_type": "code",
      "source": [
        "nums=(1,2,3) #튜플\n",
        "print(nums[1])"
      ],
      "metadata": {
        "colab": {
          "base_uri": "https://localhost:8080/"
        },
        "id": "PeMpLa8ZOtkm",
        "outputId": "d6f0671c-2331-43da-b43b-1f30169b4055"
      },
      "execution_count": 35,
      "outputs": [
        {
          "output_type": "stream",
          "name": "stdout",
          "text": [
            "2\n"
          ]
        }
      ]
    },
    {
      "cell_type": "code",
      "source": [
        "f=['게임','독서']\n",
        "print(f)\n",
        "f[0]='스포츠'\n",
        "print(f)\n",
        "f[1]='음악'\n",
        "print(f)"
      ],
      "metadata": {
        "colab": {
          "base_uri": "https://localhost:8080/"
        },
        "id": "pcT1ccAhQDMX",
        "outputId": "e8f7d18d-3763-4b8f-b81a-57602c66eef4"
      },
      "execution_count": 45,
      "outputs": [
        {
          "output_type": "stream",
          "name": "stdout",
          "text": [
            "['게임', '독서']\n",
            "['스포츠', '독서']\n",
            "['스포츠', '음악']\n"
          ]
        }
      ]
    },
    {
      "cell_type": "code",
      "source": [
        "x=[20]\n",
        "print(x)\n",
        "x.append(30)\n",
        "print(x)\n",
        "x.insert(1,10)\n",
        "print(x)\n",
        "x.extend([40,50])\n",
        "print(x)\n",
        "y=[1,2]\n",
        "z=x+y\n",
        "print(z)"
      ],
      "metadata": {
        "colab": {
          "base_uri": "https://localhost:8080/"
        },
        "id": "m77yCKK5U4Yv",
        "outputId": "23274e7c-8e14-4782-d2f8-b15b22562c51"
      },
      "execution_count": 48,
      "outputs": [
        {
          "output_type": "stream",
          "name": "stdout",
          "text": [
            "[20]\n",
            "[20, 30]\n",
            "[20, 10, 30]\n",
            "[20, 10, 30, 40, 50]\n",
            "[20, 10, 30, 40, 50, 1, 2]\n"
          ]
        }
      ]
    },
    {
      "cell_type": "code",
      "source": [
        "x=[10,20,30,40]\n",
        "x.remove(10)\n",
        "print(x)\n",
        "x.pop(2)\n",
        "print(x)\n",
        "x.clear()\n",
        "print(x)\n"
      ],
      "metadata": {
        "colab": {
          "base_uri": "https://localhost:8080/"
        },
        "id": "iCqT9-wnVXVo",
        "outputId": "b54a18ce-d397-4edd-8560-9f4b7e7433be"
      },
      "execution_count": 47,
      "outputs": [
        {
          "output_type": "stream",
          "name": "stdout",
          "text": [
            "[20, 30, 40]\n",
            "[20, 30]\n",
            "[]\n"
          ]
        }
      ]
    },
    {
      "cell_type": "code",
      "source": [
        "개설과목 = ['컴퓨터','파이썬','인공지능']\n",
        "if '파이썬' in 개설과목:\n",
        "  print('파이썬 과목이 개설 되었습니다.')\n",
        "\n",
        "for i in 개설과목:\n",
        "  print(i)"
      ],
      "metadata": {
        "colab": {
          "base_uri": "https://localhost:8080/"
        },
        "id": "AZK2HCZoVnsX",
        "outputId": "2b017bb9-3561-42a0-9195-5d3beeb37df2"
      },
      "execution_count": 53,
      "outputs": [
        {
          "output_type": "stream",
          "name": "stdout",
          "text": [
            "파이썬 과목이 개설 되었습니다.\n",
            "컴퓨터\n",
            "파이썬\n",
            "인공지능\n"
          ]
        }
      ]
    },
    {
      "cell_type": "code",
      "source": [
        "a=[10,20,30]\n",
        "print(\"최솟값:\", min(a))\n",
        "print(\"최댓값:\", max(a))\n",
        "print(\"합 계:\", sum(a))\n",
        "len(a)"
      ],
      "metadata": {
        "colab": {
          "base_uri": "https://localhost:8080/"
        },
        "id": "IAgNiRL8WPbA",
        "outputId": "5ba71226-986f-454c-b4de-93236736f5c6"
      },
      "execution_count": 55,
      "outputs": [
        {
          "output_type": "stream",
          "name": "stdout",
          "text": [
            "최솟값: 10\n",
            "최댓값: 30\n",
            "합 계: 60\n"
          ]
        },
        {
          "output_type": "execute_result",
          "data": {
            "text/plain": [
              "3"
            ]
          },
          "metadata": {},
          "execution_count": 55
        }
      ]
    },
    {
      "cell_type": "code",
      "source": [
        "score= [[29, 28, 27, 30],\n",
        "[30, 20, 27, 29],\n",
        "[23, 25, 29, 30]]\n",
        "for r in range(len(score)):\n",
        "  for c in range(len(score[r])):\n",
        "    print(score[r][c], end=\" \")\n",
        "  print()\n",
        "print(score[0])"
      ],
      "metadata": {
        "colab": {
          "base_uri": "https://localhost:8080/"
        },
        "id": "lu4OAElnWtdA",
        "outputId": "95213955-92d1-4917-85f9-c2f1fa6020b9"
      },
      "execution_count": 73,
      "outputs": [
        {
          "output_type": "stream",
          "name": "stdout",
          "text": [
            "29 28 27 30 \n",
            "30 20 27 29 \n",
            "23 25 29 30 \n",
            "[29, 28, 27, 30]\n"
          ]
        }
      ]
    },
    {
      "cell_type": "code",
      "source": [
        "score= [[29, 28, 27, 30],\n",
        "[30, 20, 27, 29],\n",
        "[23, 25, 29, 30]]\n",
        "for sc in score:\n",
        "  for c in sc:\n",
        "    print(c, end=\" \")\n",
        "  print()\n",
        "print(sc)"
      ],
      "metadata": {
        "colab": {
          "base_uri": "https://localhost:8080/"
        },
        "id": "91nWjq-7ZDgw",
        "outputId": "80e62fc3-a31f-4794-bee8-b98180b200e9"
      },
      "execution_count": 72,
      "outputs": [
        {
          "output_type": "stream",
          "name": "stdout",
          "text": [
            "29 28 27 30 \n",
            "30 20 27 29 \n",
            "23 25 29 30 \n",
            "[23, 25, 29, 30]\n"
          ]
        }
      ]
    },
    {
      "cell_type": "code",
      "source": [
        "score = []\n",
        "\n",
        "while True:\n",
        "  num = input('학생의 점수를 입력하세요.')\n",
        "  if num.isdigit()==False:\n",
        "    break\n",
        "  else:\n",
        "    score.append(int(num))\n",
        "\n",
        "total = sum(score)\n",
        "count = len(score)\n",
        "average = total / count\n",
        "\n",
        "print('전체 합계 :', total)\n",
        "print('총 인원수 :', count)\n",
        "print('평균 :', average)"
      ],
      "metadata": {
        "colab": {
          "base_uri": "https://localhost:8080/"
        },
        "id": "fIrYy08pZac4",
        "outputId": "6f12e9ed-4143-4919-ba67-ee52b9000d6a"
      },
      "execution_count": 74,
      "outputs": [
        {
          "output_type": "stream",
          "name": "stdout",
          "text": [
            "학생의 점수를 입력하세요.90\n",
            "학생의 점수를 입력하세요.70\n",
            "학생의 점수를 입력하세요.30\n",
            "학생의 점수를 입력하세요.x\n",
            "전체 합계 : 190\n",
            "총 인원수 : 3\n",
            "평균 : 63.333333333333336\n"
          ]
        }
      ]
    },
    {
      "cell_type": "code",
      "source": [],
      "metadata": {
        "id": "0GqIer-7fArK"
      },
      "execution_count": null,
      "outputs": []
    }
  ]
}